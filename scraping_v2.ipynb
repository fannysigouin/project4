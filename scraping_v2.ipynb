{
 "cells": [
  {
   "cell_type": "code",
   "execution_count": 1,
   "metadata": {},
   "outputs": [],
   "source": [
    "# Import dependencies\n",
    "import chromedriver_autoinstaller\n",
    "from selenium import webdriver\n",
    "from selenium.webdriver.common.by import By\n",
    "from bs4 import BeautifulSoup\n",
    "import pandas as pd\n",
    "import re # to work with regex\n",
    "import time # to add delays between requests"
   ]
  },
  {
   "cell_type": "markdown",
   "metadata": {},
   "source": [
    "## Initial scraping"
   ]
  },
  {
   "cell_type": "code",
   "execution_count": 2,
   "metadata": {},
   "outputs": [],
   "source": [
    "# chromedriver_autoinstaller.install()\n",
    "# # Launch browser\n",
    "# driver = webdriver.Chrome()\n",
    "# # Visit listing.ca\n",
    "# url = \"https://toronto.listing.ca/\"\n",
    "# driver.get(url)"
   ]
  },
  {
   "cell_type": "code",
   "execution_count": 3,
   "metadata": {},
   "outputs": [],
   "source": [
    "# # Scrape the website\n",
    "# html = driver.page_source\n",
    "\n",
    "# # Create a BeautifulSoup object from the scraped HTML\n",
    "# soup = BeautifulSoup(html, 'html.parser')"
   ]
  },
  {
   "cell_type": "code",
   "execution_count": 4,
   "metadata": {},
   "outputs": [],
   "source": [
    "# # List of listings in the html soup, found using class sl\n",
    "# listings_html = soup.find_all('div', 'sl')\n",
    "# # Print first element of the list\n",
    "# listings_html[0]\n"
   ]
  },
  {
   "cell_type": "code",
   "execution_count": 5,
   "metadata": {},
   "outputs": [],
   "source": [
    "# # Loop through listings and append the clean info a list of dictionaries\n",
    "# listings_list = []\n",
    "# for item in listings_html:\n",
    "#     # Create a dictionary containing the info for a listing\n",
    "#     listing = {\n",
    "#         'url': item.find('div', 'slt_address').a['href'],\n",
    "#         'address': item.find('div', 'slt_address').text,\n",
    "#         'price': item.find('div', 'slt_price').text,\n",
    "#         'baths': item.find('div', 'slt_baths').text,\n",
    "#         'beds': item.find('div', 'slt_beds').text,\n",
    "#         'neighbourhood': item.find_all('na2')[1].text\n",
    "#     }\n",
    "#     # Append to the list\n",
    "#     listings_list.append(listing)\n",
    "# # Check results\n",
    "# listings_list[0:3]"
   ]
  },
  {
   "cell_type": "code",
   "execution_count": 6,
   "metadata": {},
   "outputs": [],
   "source": [
    "# # Create dataframe with info from first page's listings\n",
    "# df = pd.DataFrame(listings_list)\n",
    "# df.head()"
   ]
  },
  {
   "cell_type": "code",
   "execution_count": 7,
   "metadata": {},
   "outputs": [],
   "source": [
    "# # Extract mls id from url column\n",
    "# df['mls_id'] = [re.search('[A-Z]\\\\d{7}', url).group() for url in df['url']]\n",
    "# df.head()"
   ]
  },
  {
   "cell_type": "code",
   "execution_count": 8,
   "metadata": {},
   "outputs": [],
   "source": [
    "# # Quit browsing session\n",
    "# driver.quit()"
   ]
  },
  {
   "cell_type": "markdown",
   "metadata": {},
   "source": [
    "## Functions and page loops"
   ]
  },
  {
   "cell_type": "code",
   "execution_count": 9,
   "metadata": {},
   "outputs": [],
   "source": [
    "# Define function to scrape a single page,\n",
    "# @arg html: scraped html\n",
    "# @return list of listing dictionaries\n",
    "def get_listing_info(html):\n",
    "    # Create a BeautifulSoup object from the scraped HTML\n",
    "    soup = BeautifulSoup(html, 'html.parser')\n",
    "    # List of listings in the html soup, found using class sl\n",
    "    listings_html = soup.find_all('div', 'sl')\n",
    "    # Empty list to store listing dicts\n",
    "    listings_list = []\n",
    "    for item in listings_html:\n",
    "        # Create a dictionary containing the info for a listing\n",
    "        listing = {\n",
    "            'url': item.find('div', 'slt_address').a['href'],\n",
    "            'address': item.find('div', 'slt_address').text,\n",
    "            'price': item.find('div', 'slt_price').text,\n",
    "            'baths': item.find('div', 'slt_baths').text,\n",
    "            'beds': item.find('div', 'slt_beds').text,\n",
    "            'neighbourhood': item.find_all('na2')[1].text\n",
    "        }\n",
    "        # Extract mls_id from url\n",
    "        listing['mls_id'] = re.search('[A-Z]\\\\d{7}', listing['url']).group()\n",
    "        # Append to the list\n",
    "        listings_list.append(listing)\n",
    "    # Return expanded listings_list\n",
    "    return listings_list"
   ]
  },
  {
   "cell_type": "code",
   "execution_count": 10,
   "metadata": {},
   "outputs": [],
   "source": [
    "chromedriver_autoinstaller.install()\n",
    "# Launch browser\n",
    "driver = webdriver.Chrome()"
   ]
  },
  {
   "cell_type": "code",
   "execution_count": 11,
   "metadata": {},
   "outputs": [],
   "source": [
    "# Loop to collect the listing info and click to the next page for 3 total pages\n",
    "listing_info_list = []\n",
    "\n",
    "for i in range(1, 4):\n",
    "    url = f'https://listing.ca/mls/?.cy.........{i}..$'\n",
    "    driver.get(url)\n",
    "    listing_info_list.extend(get_listing_info(driver.page_source))\n",
    "    time.sleep(5) \n",
    "    # driver.find_element(By.PARTIAL_LINK_TEXT, 'Next').click()"
   ]
  },
  {
   "cell_type": "code",
   "execution_count": 12,
   "metadata": {},
   "outputs": [
    {
     "data": {
      "text/html": [
       "<div>\n",
       "<style scoped>\n",
       "    .dataframe tbody tr th:only-of-type {\n",
       "        vertical-align: middle;\n",
       "    }\n",
       "\n",
       "    .dataframe tbody tr th {\n",
       "        vertical-align: top;\n",
       "    }\n",
       "\n",
       "    .dataframe thead th {\n",
       "        text-align: right;\n",
       "    }\n",
       "</style>\n",
       "<table border=\"1\" class=\"dataframe\">\n",
       "  <thead>\n",
       "    <tr style=\"text-align: right;\">\n",
       "      <th></th>\n",
       "      <th>url</th>\n",
       "      <th>address</th>\n",
       "      <th>price</th>\n",
       "      <th>baths</th>\n",
       "      <th>beds</th>\n",
       "      <th>neighbourhood</th>\n",
       "      <th>mls_id</th>\n",
       "    </tr>\n",
       "  </thead>\n",
       "  <tbody>\n",
       "    <tr>\n",
       "      <th>0</th>\n",
       "      <td>https://toronto.listing.ca/286-main-st-911.E80...</td>\n",
       "      <td>286 Main St 911</td>\n",
       "      <td>$619,900 CAD</td>\n",
       "      <td>1 baths</td>\n",
       "      <td>1+1 beds</td>\n",
       "      <td>East End-Danforth</td>\n",
       "      <td>E8018446</td>\n",
       "    </tr>\n",
       "    <tr>\n",
       "      <th>1</th>\n",
       "      <td>https://toronto.listing.ca/18-willowlea-dr.E73...</td>\n",
       "      <td>18 Willowlea Dr</td>\n",
       "      <td>$1,699,900 CAD</td>\n",
       "      <td>0 baths</td>\n",
       "      <td>0 beds</td>\n",
       "      <td>Highland Creek</td>\n",
       "      <td>E7353624</td>\n",
       "    </tr>\n",
       "    <tr>\n",
       "      <th>2</th>\n",
       "      <td>https://toronto.listing.ca/5-kingsbury-cres.E7...</td>\n",
       "      <td>5 Kingsbury Cres</td>\n",
       "      <td>$15,000,000 CAD</td>\n",
       "      <td>1 baths</td>\n",
       "      <td>2 beds</td>\n",
       "      <td>Birchcliffe-Cliffside</td>\n",
       "      <td>E7292902</td>\n",
       "    </tr>\n",
       "    <tr>\n",
       "      <th>3</th>\n",
       "      <td>https://toronto.listing.ca/215-queen-st-606.C7...</td>\n",
       "      <td>215 Queen St 606</td>\n",
       "      <td>$529,000 CAD</td>\n",
       "      <td>1 baths</td>\n",
       "      <td>1 beds</td>\n",
       "      <td>Waterfront Communities C1</td>\n",
       "      <td>C7266728</td>\n",
       "    </tr>\n",
       "    <tr>\n",
       "      <th>4</th>\n",
       "      <td>https://toronto.listing.ca/10-park-lawn-rd-140...</td>\n",
       "      <td>10 Park Lawn Rd 1408</td>\n",
       "      <td>$624,900 CAD</td>\n",
       "      <td>1 baths</td>\n",
       "      <td>1+1 beds</td>\n",
       "      <td>Mimico</td>\n",
       "      <td>W7239426</td>\n",
       "    </tr>\n",
       "  </tbody>\n",
       "</table>\n",
       "</div>"
      ],
      "text/plain": [
       "                                                 url               address  \\\n",
       "0  https://toronto.listing.ca/286-main-st-911.E80...       286 Main St 911   \n",
       "1  https://toronto.listing.ca/18-willowlea-dr.E73...       18 Willowlea Dr   \n",
       "2  https://toronto.listing.ca/5-kingsbury-cres.E7...      5 Kingsbury Cres   \n",
       "3  https://toronto.listing.ca/215-queen-st-606.C7...      215 Queen St 606   \n",
       "4  https://toronto.listing.ca/10-park-lawn-rd-140...  10 Park Lawn Rd 1408   \n",
       "\n",
       "             price    baths      beds              neighbourhood    mls_id  \n",
       "0     $619,900 CAD  1 baths  1+1 beds          East End-Danforth  E8018446  \n",
       "1   $1,699,900 CAD  0 baths    0 beds             Highland Creek  E7353624  \n",
       "2  $15,000,000 CAD  1 baths    2 beds      Birchcliffe-Cliffside  E7292902  \n",
       "3     $529,000 CAD  1 baths    1 beds  Waterfront Communities C1  C7266728  \n",
       "4     $624,900 CAD  1 baths  1+1 beds                     Mimico  W7239426  "
      ]
     },
     "execution_count": 12,
     "metadata": {},
     "output_type": "execute_result"
    }
   ],
   "source": [
    "# Create dataframe with info from first page's listings\n",
    "df = pd.DataFrame(listing_info_list)\n",
    "df.head()"
   ]
  },
  {
   "cell_type": "code",
   "execution_count": 13,
   "metadata": {},
   "outputs": [
    {
     "name": "stdout",
     "output_type": "stream",
     "text": [
      "<class 'pandas.core.frame.DataFrame'>\n",
      "RangeIndex: 60 entries, 0 to 59\n",
      "Data columns (total 7 columns):\n",
      " #   Column         Non-Null Count  Dtype \n",
      "---  ------         --------------  ----- \n",
      " 0   url            60 non-null     object\n",
      " 1   address        60 non-null     object\n",
      " 2   price          60 non-null     object\n",
      " 3   baths          60 non-null     object\n",
      " 4   beds           60 non-null     object\n",
      " 5   neighbourhood  60 non-null     object\n",
      " 6   mls_id         60 non-null     object\n",
      "dtypes: object(7)\n",
      "memory usage: 3.4+ KB\n"
     ]
    }
   ],
   "source": [
    "df.info()"
   ]
  },
  {
   "cell_type": "code",
   "execution_count": 14,
   "metadata": {},
   "outputs": [],
   "source": [
    "# Quit browsing session\n",
    "driver.quit()"
   ]
  }
 ],
 "metadata": {
  "kernelspec": {
   "display_name": "dev",
   "language": "python",
   "name": "python3"
  },
  "language_info": {
   "codemirror_mode": {
    "name": "ipython",
    "version": 3
   },
   "file_extension": ".py",
   "mimetype": "text/x-python",
   "name": "python",
   "nbconvert_exporter": "python",
   "pygments_lexer": "ipython3",
   "version": "3.10.12"
  }
 },
 "nbformat": 4,
 "nbformat_minor": 2
}
